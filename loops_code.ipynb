{
 "cells": [
  {
   "cell_type": "code",
   "execution_count": 3,
   "id": "2f8b5c34-ca7a-4235-ad73-8e6d0366055d",
   "metadata": {
    "tags": []
   },
   "outputs": [],
   "source": [
    "names = ['Travis', 'Tyris','Cherise']\n",
    "friends = []\n",
    "for name in names:\n",
    "    if name == 'Travis':\n",
    "        friends.append(name)\n",
    "    else:\n",
    "        friends.append(names)"
   ]
  },
  {
   "cell_type": "code",
   "execution_count": 5,
   "id": "cabc2b1e-fbae-4561-afba-f11a1be12d0b",
   "metadata": {
    "tags": []
   },
   "outputs": [
    {
     "name": "stdout",
     "output_type": "stream",
     "text": [
      "['Travis', ['Travis', 'Tyris', 'Cherise'], ['Travis', 'Tyris', 'Cherise']]\n"
     ]
    }
   ],
   "source": [
    "print(friends)"
   ]
  },
  {
   "cell_type": "code",
   "execution_count": null,
   "id": "37f74a40-e626-467b-b795-49d2a5d2c7e2",
   "metadata": {},
   "outputs": [],
   "source": []
  }
 ],
 "metadata": {
  "kernelspec": {
   "display_name": "Python 3 (ipykernel)",
   "language": "python",
   "name": "python3"
  },
  "language_info": {
   "codemirror_mode": {
    "name": "ipython",
    "version": 3
   },
   "file_extension": ".py",
   "mimetype": "text/x-python",
   "name": "python",
   "nbconvert_exporter": "python",
   "pygments_lexer": "ipython3",
   "version": "3.11.5"
  }
 },
 "nbformat": 4,
 "nbformat_minor": 5
}
